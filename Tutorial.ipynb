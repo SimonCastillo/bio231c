{
 "cells": [
  {
   "cell_type": "markdown",
   "metadata": {
    "deletable": true,
    "editable": true
   },
   "source": [
    "# Tutorial\n",
    "## Preliminaries\n",
    "Before following this tutorial we need to set up the tools and load the data. We need to import several packages, so before running this notebook you should create an environment (conda or virtualenv) with matplotlib, numpy, and scikit-image, and jupyter. \n",
    "\n",
    "You can use the Anaconda Navigator to do this, see:\n",
    "\n",
    "https://docs.continuum.io/anaconda/navigator/getting-started.html\n",
    "\n",
    "Or from the terminal (command window), for example:\n",
    "\n",
    "`conda create -n BIO399E jupyter matplotlib numpy scipy scikit-image`\n",
    "\n",
    "and then activate it, e.g. on Mac/Linux:\n",
    "\n",
    "`source activate BIO399E`\n",
    "\n",
    "or on windows\n",
    "\n",
    "`activate BIO399E`\n",
    "\n",
    "or select the conda env here in Jupyter.\n",
    "\n",
    "## Modules\n",
    "First import the standard tools, numpy and matplotlib. These are very well documented packages, more info can be found here:\n",
    "\n",
    "http://www.matplotlib.org\n",
    "\n",
    "http://www.numpy.org"
   ]
  },
  {
   "cell_type": "code",
   "execution_count": null,
   "metadata": {
    "collapsed": false,
    "deletable": true,
    "editable": true
   },
   "outputs": [],
   "source": [
    "import numpy as np\n",
    "import matplotlib\n",
    "np.__version__"
   ]
  },
  {
   "cell_type": "markdown",
   "metadata": {
    "deletable": true,
    "editable": true
   },
   "source": [
    "## Numpy arrays\n",
    "Lists are a simple way to store collections of data, but they are not very flexible. To deal with numerical data it is better is to use a package called numpy, which stores data in n-dimensional arrays. The simplest is a lot like a list, and we can make it from a list:\n"
   ]
  },
  {
   "cell_type": "code",
   "execution_count": null,
   "metadata": {
    "collapsed": false,
    "deletable": true,
    "editable": true
   },
   "outputs": [],
   "source": [
    "days = [31,28,31,30,31,30,31,31,30,31,30,31]\n",
    "adays = np.array(days)\n",
    "print adays"
   ]
  },
  {
   "cell_type": "markdown",
   "metadata": {
    "deletable": true,
    "editable": true
   },
   "source": [
    "We can also make an array from scratch and fill it with zeros, ones, random values, etc, and combine arrays to compute functions:"
   ]
  },
  {
   "cell_type": "code",
   "execution_count": null,
   "metadata": {
    "collapsed": false,
    "deletable": true,
    "editable": true
   },
   "outputs": [],
   "source": [
    "a = np.zeros((12,))\n",
    "x = np.ones((100,))\n",
    "y = np.random.random((12,))\n",
    "\n",
    "z = np.arange(1,13)\n",
    "w = z*5 + 0.5\n",
    "\n",
    "print x\n",
    "print y\n",
    "print z\n",
    "print w"
   ]
  },
  {
   "cell_type": "markdown",
   "metadata": {
    "deletable": true,
    "editable": true
   },
   "source": [
    "Now we have the days in a numpy array we can use functions from numpy to easily do the control:"
   ]
  },
  {
   "cell_type": "code",
   "execution_count": null,
   "metadata": {
    "collapsed": false,
    "deletable": true,
    "editable": true
   },
   "outputs": [],
   "source": [
    "# Calculate mean using numpy\n",
    "average_days = adays.mean()\n",
    "print adays\n",
    "print average_days"
   ]
  },
  {
   "cell_type": "code",
   "execution_count": null,
   "metadata": {
    "collapsed": false,
    "editable": true
   },
   "outputs": [],
   "source": [
    "# Calculate variance using numpy\n",
    "var_days = adays.var()\n",
    "print var_days\n",
    "\n",
    "# Calculate variance step-by-step (same result)\n",
    "devs = (adays-average_days)**2\n",
    "print devs\n",
    "\n",
    "sum_devs = devs.sum()\n",
    "print sum_devs\n",
    "\n",
    "var_days = sum_devs/len(days)\n",
    "print var_days"
   ]
  },
  {
   "cell_type": "markdown",
   "metadata": {
    "deletable": true,
    "editable": true
   },
   "source": [
    "### 2-dimensional arrays\n",
    "Numpy can handle arrays of any number dimensions. For example for images we will use 2-dimensional arrays (in a later class). Here is how to make a 2-d array:"
   ]
  },
  {
   "cell_type": "code",
   "execution_count": null,
   "metadata": {
    "collapsed": false,
    "deletable": true,
    "editable": true
   },
   "outputs": [],
   "source": [
    "# A 2-dimensional array with random values\n",
    "twod = np.random.random((10,5))\n",
    "print twod\n",
    "\n",
    "# Means (variance, etc.) are computed along specified axes\n",
    "print np.mean(twod, axis=1)\n",
    "print np.mean(twod, axis=(0,1))"
   ]
  },
  {
   "cell_type": "markdown",
   "metadata": {
    "deletable": true,
    "editable": true
   },
   "source": [
    "## Exercise 1\n",
    "As we saw above Numpy has many functions that perform calculations on arrays, see here:\n",
    "\n",
    "https://docs.scipy.org/doc/numpy-1.13.0/reference/arrays.ndarray.html#array-methods\n",
    "\n",
    "One of these functions is to load data from a text file. \n",
    "\n",
    "In this folder you will find 3 text files, 'fluo.csv', 'od.csv', and 't.csv' (time). These files contain comma separated lists of numbers corresponding to fluorescence and od measurements at times t.\n",
    "\n",
    "1.1 Write code to load these files into 3 numpy arrays `fluo`, `od` and `t`:"
   ]
  },
  {
   "cell_type": "code",
   "execution_count": null,
   "metadata": {
    "collapsed": false,
    "deletable": true,
    "editable": true
   },
   "outputs": [],
   "source": []
  },
  {
   "cell_type": "markdown",
   "metadata": {
    "deletable": true,
    "editable": true
   },
   "source": [
    "1.2 Now calculate the mean and variance of each data set. What else can you calculate with numpy that might be useful?"
   ]
  },
  {
   "cell_type": "code",
   "execution_count": null,
   "metadata": {
    "collapsed": true,
    "deletable": true,
    "editable": true
   },
   "outputs": [],
   "source": []
  },
  {
   "cell_type": "markdown",
   "metadata": {
    "deletable": true,
    "editable": true
   },
   "source": [
    "## Matplotlib, making graphs\n",
    "Matplotlib is a module that works well with numpy arrays, and can make many kinds of graphs, charts, heatmaps etc. The part of the module that does plotting is called pyplot, we import it like this with some magic to put plots in this notebook:"
   ]
  },
  {
   "cell_type": "code",
   "execution_count": null,
   "metadata": {
    "collapsed": true,
    "deletable": true,
    "editable": true
   },
   "outputs": [],
   "source": [
    "import matplotlib.pyplot as plt\n",
    "%matplotlib inline"
   ]
  },
  {
   "cell_type": "markdown",
   "metadata": {
    "deletable": true,
    "editable": true
   },
   "source": [
    "For example, here is a simple plot of the fluorescence:"
   ]
  },
  {
   "cell_type": "code",
   "execution_count": null,
   "metadata": {
    "collapsed": false,
    "deletable": true,
    "editable": true
   },
   "outputs": [],
   "source": [
    "# Simple plot\n",
    "plt.plot(fluo)\n",
    "# We can also choose the color, point shape etc.\n",
    "plt.plot(fluo, 'g+')"
   ]
  },
  {
   "cell_type": "markdown",
   "metadata": {
    "deletable": true,
    "editable": true
   },
   "source": [
    "Make use of the matplotlib documentation to do the following:\n",
    "\n",
    "## Exercise 2\n",
    "2.1 Make a plot for each data set, `fluo`, `od` against time `t`. Label the axes and give the plot a title."
   ]
  },
  {
   "cell_type": "code",
   "execution_count": null,
   "metadata": {
    "collapsed": false,
    "deletable": true,
    "editable": true
   },
   "outputs": [],
   "source": []
  },
  {
   "cell_type": "markdown",
   "metadata": {
    "deletable": true,
    "editable": true
   },
   "source": [
    "2.2 Do the same as above, but plot the log of the data:"
   ]
  },
  {
   "cell_type": "code",
   "execution_count": null,
   "metadata": {
    "collapsed": false,
    "deletable": true,
    "editable": true
   },
   "outputs": [],
   "source": []
  },
  {
   "cell_type": "markdown",
   "metadata": {
    "deletable": true,
    "editable": true
   },
   "source": [
    "2.3 Plot `fluo` and `od` in the same plot. Try and make the axes different so that you can really see od:"
   ]
  },
  {
   "cell_type": "code",
   "execution_count": null,
   "metadata": {
    "collapsed": false,
    "deletable": true,
    "editable": true
   },
   "outputs": [],
   "source": []
  },
  {
   "cell_type": "markdown",
   "metadata": {
    "deletable": true,
    "editable": true
   },
   "source": [
    "2.4 Plot `fluo/od` for all times:"
   ]
  },
  {
   "cell_type": "code",
   "execution_count": null,
   "metadata": {
    "collapsed": true,
    "deletable": true,
    "editable": true
   },
   "outputs": [],
   "source": []
  },
  {
   "cell_type": "markdown",
   "metadata": {
    "deletable": true,
    "editable": true
   },
   "source": [
    "## Exercise 3\n",
    "3.1 Plot histograms of `fluo` and `od`:"
   ]
  },
  {
   "cell_type": "code",
   "execution_count": null,
   "metadata": {
    "collapsed": true,
    "deletable": true,
    "editable": true
   },
   "outputs": [],
   "source": []
  },
  {
   "cell_type": "markdown",
   "metadata": {
    "deletable": true,
    "editable": true
   },
   "source": [
    "3.2 Plot `fluo` against `od`:"
   ]
  },
  {
   "cell_type": "code",
   "execution_count": null,
   "metadata": {
    "collapsed": true,
    "deletable": true,
    "editable": true
   },
   "outputs": [],
   "source": []
  },
  {
   "cell_type": "markdown",
   "metadata": {
    "deletable": true,
    "editable": true
   },
   "source": [
    "3.3 Calculate the correlation between `fluo` and `od`:"
   ]
  },
  {
   "cell_type": "code",
   "execution_count": null,
   "metadata": {
    "collapsed": true,
    "deletable": true,
    "editable": true
   },
   "outputs": [],
   "source": []
  },
  {
   "cell_type": "markdown",
   "metadata": {
    "deletable": true,
    "editable": true
   },
   "source": [
    "## Data analysis, calculating gene expression"
   ]
  },
  {
   "cell_type": "markdown",
   "metadata": {
    "deletable": true,
    "editable": true
   },
   "source": [
    "Here is a simple model for fluorescent gene expression from a single cell:\n",
    "\n",
    "\\begin{equation}\n",
    "\\frac{dF}{dt} = k(t) - \\mu(t) F(t)\n",
    "\\end{equation}\n",
    "\n",
    "where $\\mu(t)$ is the growth rate. If we have $N \\approx OD$ cells, then we measure the sum of their gene expression $I(t) = F(t)OD(t)$ and we can show that:\n",
    "\n",
    "\\begin{equation}\n",
    "k(t) = \\frac{1}{OD}\\frac{dI}{dt}\n",
    "\\end{equation}\n",
    "\n",
    "## Exercise 4 (Advanced)\n",
    "Given the data above with $I(t)$ in the variable `fluo`, how would you calculate the gene expression rate at each time `t`?"
   ]
  },
  {
   "cell_type": "code",
   "execution_count": null,
   "metadata": {
    "collapsed": false,
    "deletable": true,
    "editable": true
   },
   "outputs": [],
   "source": []
  }
 ],
 "metadata": {
  "kernelspec": {
   "display_name": "Python 2",
   "language": "python",
   "name": "python2"
  },
  "language_info": {
   "codemirror_mode": {
    "name": "ipython",
    "version": 2
   },
   "file_extension": ".py",
   "mimetype": "text/x-python",
   "name": "python",
   "nbconvert_exporter": "python",
   "pygments_lexer": "ipython2",
   "version": "2.7.12"
  }
 },
 "nbformat": 4,
 "nbformat_minor": 2
}
